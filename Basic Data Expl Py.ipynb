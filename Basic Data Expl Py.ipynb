{
 "cells": [
  {
   "cell_type": "code",
   "execution_count": 1,
   "metadata": {},
   "outputs": [],
   "source": [
    "#Data Exploration\n",
    "import pandas as pd"
   ]
  },
  {
   "cell_type": "code",
   "execution_count": 2,
   "metadata": {},
   "outputs": [],
   "source": [
    "#create data_frame of array values\n",
    "df = pd.DataFrame({\n",
    "    'name':['matt','lisa','richard','john','julia','jane','marlon'],\n",
    "    'age':[23,78,22,19,45,33,20],\n",
    "    'gender':['M','F','M','M','M','F','M'],\n",
    "    'state':['DC','CO','DE','VA','MD','DE','NY'],\n",
    "    'years_of_service':[10,0,2,0,2,1,5],\n",
    "    'iq':[300,100,110,200,300, 10, 40]\n",
    "})"
   ]
  },
  {
   "cell_type": "code",
   "execution_count": 7,
   "metadata": {},
   "outputs": [
    {
     "name": "stdout",
     "output_type": "stream",
     "text": [
      "sample of 25%\n"
     ]
    },
    {
     "data": {
      "text/plain": [
       "(None,      name  age gender state  years_of_service  iq\n",
       " 5    jane   33      F    DE                 1  10\n",
       " 6  marlon   20      M    NY                 5  40)"
      ]
     },
     "execution_count": 7,
     "metadata": {},
     "output_type": "execute_result"
    }
   ],
   "source": [
    "#Begin extract of 25% sample data\n",
    "rows = df.sample(frac = .25)\n",
    "#validate first to check if sample is 0.25 times data or not\n",
    "if(0.25*(len(df))==len(rows)):\n",
    "    print(len(df), len(rows))\n",
    "\n",
    "#Display Sample Percentage\n",
    "print ('sample of 25%'),rows"
   ]
  },
  {
   "cell_type": "code",
   "execution_count": 4,
   "metadata": {},
   "outputs": [
    {
     "name": "stdout",
     "output_type": "stream",
     "text": [
      "('F', 55.0)\n",
      "('M', 190.0)\n"
     ]
    }
   ],
   "source": [
    "#Categorical Variable Splitting\n",
    "groupby_gender = df.groupby('gender')\n",
    "for gender, value in groupby_gender['iq']:\n",
    "    print((gender,value.mean()))"
   ]
  },
  {
   "cell_type": "code",
   "execution_count": 6,
   "metadata": {},
   "outputs": [
    {
     "name": "stdout",
     "output_type": "stream",
     "text": [
      "Sum of Ages\n",
      "Average Ages\n",
      "Means of each column\n",
      "count      7.000000\n",
      "mean     151.428571\n",
      "std      117.817454\n",
      "min       10.000000\n",
      "25%       70.000000\n",
      "50%      110.000000\n",
      "75%      250.000000\n",
      "max      300.000000\n",
      "Name: iq, dtype: float64\n"
     ]
    }
   ],
   "source": [
    "#Find the Summation of all ages in the data\n",
    "SumofAge=df['age'].sum()\n",
    "print ('Sum of Ages'), SumofAge\n",
    "MeanAge = df['age'].mean()\n",
    "print ('Average Ages'), MeanAge\n",
    "# Find the mean of all columns\n",
    "print ('Means of each column'), df.mean(axis=0)\n",
    "#Describe the Data\n",
    "print (df['iq'].describe())"
   ]
  },
  {
   "cell_type": "code",
   "execution_count": null,
   "metadata": {},
   "outputs": [],
   "source": []
  }
 ],
 "metadata": {
  "kernelspec": {
   "display_name": "Python 3",
   "language": "python",
   "name": "python3"
  },
  "language_info": {
   "codemirror_mode": {
    "name": "ipython",
    "version": 3
   },
   "file_extension": ".py",
   "mimetype": "text/x-python",
   "name": "python",
   "nbconvert_exporter": "python",
   "pygments_lexer": "ipython3",
   "version": "3.7.3"
  }
 },
 "nbformat": 4,
 "nbformat_minor": 2
}
